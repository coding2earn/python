{
 "cells": [
  {
   "cell_type": "code",
   "execution_count": null,
   "metadata": {},
   "outputs": [],
   "source": [
    "%matplotlib notebook"
   ]
  },
  {
   "cell_type": "code",
   "execution_count": null,
   "metadata": {
    "scrolled": true
   },
   "outputs": [],
   "source": [
    "## importing the necessary libraries\n",
    "import pandas as pd\n",
    "import matplotlib.pyplot as plt\n",
    "\n",
    "## reading .csv datafile\n",
    "df= pd.read_csv('pokemon.csv')\n",
    "print(df)"
   ]
  },
  {
   "cell_type": "code",
   "execution_count": null,
   "metadata": {},
   "outputs": [],
   "source": [
    "## For this project let's remove 'Type 2' 'Total' and 'Generation' sections\n",
    "df= df.drop(columns=['Type 2','Total', 'Generation'])\n",
    "print(df)"
   ]
  },
  {
   "cell_type": "code",
   "execution_count": null,
   "metadata": {},
   "outputs": [],
   "source": [
    "## A \"Total\" column is created again for an accurate gauge of a pokemon's total power\n",
    "df['Total']=df['HP']+df['Attack']+df['Defense']+df['Sp. Atk']+df['Sp. Def']+df['Speed']\n",
    "print(df)"
   ]
  },
  {
   "cell_type": "code",
   "execution_count": null,
   "metadata": {},
   "outputs": [],
   "source": [
    "## sorting the 15 highest scored pokemons\n",
    "print(df.sort_values(['Total'],ascending=False).head(15))\n"
   ]
  },
  {
   "cell_type": "code",
   "execution_count": null,
   "metadata": {},
   "outputs": [],
   "source": [
    "## find all the NON-legendary pokemon types and create a new dataframe\n",
    "non_legendary=df.loc[df['Legendary']!=True]\n",
    "non_legendary.sort_values(['Total'],ascending=True)"
   ]
  },
  {
   "cell_type": "code",
   "execution_count": null,
   "metadata": {},
   "outputs": [],
   "source": [
    "## finding the amount of most common Pokemon types\n",
    "total_types=df.groupby(['Total']).count()\n",
    "print(total_types) ## compare with count_legendaryPokemons count()"
   ]
  },
  {
   "cell_type": "code",
   "execution_count": null,
   "metadata": {},
   "outputs": [],
   "source": [
    "# Visual distribution of pokemons according to their Total scores\n",
    "import seaborn as sns\n",
    "plt.figure(figsize=(14,7)) ## try increasing vertical distribution\n",
    "sns.barplot (x=df['Total'],y=total_types['Name']);\n",
    "\n"
   ]
  },
  {
   "cell_type": "code",
   "execution_count": null,
   "metadata": {},
   "outputs": [],
   "source": []
  },
  {
   "cell_type": "code",
   "execution_count": null,
   "metadata": {},
   "outputs": [],
   "source": [
    "## group pokemon types based on their Total scores\n",
    "stats_for_types=non_legendary.groupby(['Name'])['Total'].describe()\n",
    "print(stats_for_types)"
   ]
  },
  {
   "cell_type": "code",
   "execution_count": null,
   "metadata": {},
   "outputs": [],
   "source": [
    "stats_for_types=stats_for_types[stats_for_types['max'] >= 600]\n",
    "#stats_for_types.sort_values('max',ascending=False) # sorting by max values\n",
    "print(stats_for_types)\n",
    "\n"
   ]
  },
  {
   "cell_type": "code",
   "execution_count": null,
   "metadata": {},
   "outputs": [],
   "source": [
    "## Filtering \"Legendary\" pokemons\n",
    "legendary_pokemons=df.loc[df[\"Legendary\"]==True]\n",
    "print(legendary_pokemons) # there are 65 of them ;)\n",
    "\n"
   ]
  },
  {
   "cell_type": "code",
   "execution_count": null,
   "metadata": {},
   "outputs": [],
   "source": [
    "# count the legendary pokemons found for each type\n",
    "count_legendaryPokemons=legendary_pokemons.groupby(['Type 1']).count()\n",
    "print(count_legendaryPokemons)\n",
    "\n"
   ]
  },
  {
   "cell_type": "code",
   "execution_count": null,
   "metadata": {},
   "outputs": [],
   "source": [
    "# visualize as bars\n",
    "count_legendaryPokemons=count_legendaryPokemons.sort_values(\"#\",ascending=False)\n",
    "sns.barplot(x=count_legendaryPokemons.index,y=count_legendaryPokemons['#'])\n",
    "plt.xticks(rotation=75)\n",
    "plt.show()"
   ]
  },
  {
   "cell_type": "code",
   "execution_count": null,
   "metadata": {},
   "outputs": [],
   "source": [
    "# lookig at the correlations between pokemon properties\n",
    "plt.title(\"Pokemon Properties Correlation Heat Map\")\n",
    "sns.heatmap(df.corr()) #annot=\n",
    "plt.show()"
   ]
  }
 ],
 "metadata": {
  "kernelspec": {
   "display_name": "Python 3",
   "language": "python",
   "name": "python3"
  },
  "language_info": {
   "codemirror_mode": {
    "name": "ipython",
    "version": 3
   },
   "file_extension": ".py",
   "mimetype": "text/x-python",
   "name": "python",
   "nbconvert_exporter": "python",
   "pygments_lexer": "ipython3",
   "version": "3.8.8"
  }
 },
 "nbformat": 4,
 "nbformat_minor": 4
}
