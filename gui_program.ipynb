{
 "cells": [
  {
   "cell_type": "markdown",
   "id": "1d04478b-63cd-4b44-9915-d924faf75eb6",
   "metadata": {},
   "source": []
  },
  {
   "cell_type": "code",
   "execution_count": null,
   "id": "99252b7e-c95e-4191-8959-2c91e9176097",
   "metadata": {},
   "outputs": [],
   "source": [
    "import tkinter as tk\n",
    "from tkinter import filedialog\n",
    "import pandas as pd\n",
    "\n",
    "global df\n",
    "\n",
    "root = tk.Tk()\n",
    "canvas1 = tk.Canvas(root, width=300, height=300, bg='lightsteelblue')\n",
    "canvas1.pack()\n",
    "\n",
    "def get_excel():\n",
    "    import_file_path = filedialog.askopenfilename()\n",
    "    df = pd.read_excel(import_file_path)\n",
    "    print(df)\n",
    "\n",
    "browseButton_Excel = tk.Button(text='Import Excel File', command=get_excel, bg='green', fg='white',\n",
    "                               font=('helvetica', 12, 'bold'))\n",
    "\n",
    "canvas1.create_window(150, 150, window=browseButton_Excel)\n",
    "\n",
    "\n",
    "root.mainloop()"
   ]
  },
  {
   "cell_type": "code",
   "execution_count": 1,
   "id": "28cf6d79-ebb8-4eab-bddb-a6dbcdbf42e9",
   "metadata": {},
   "outputs": [
    {
     "name": "stdout",
     "output_type": "stream",
     "text": [
      "0    1\n",
      "1    3\n",
      "2    6\n",
      "3    4\n",
      "4    2\n",
      "5    3\n",
      "dtype: int64\n",
      "[4, 4, 4, 2, 1, 0]\n",
      "4    1\n",
      "4    3\n",
      "4    6\n",
      "2    4\n",
      "1    2\n",
      "0    3\n",
      "dtype: int64\n"
     ]
    },
    {
     "data": {
      "text/plain": [
       "<AxesSubplot:>"
      ]
     },
     "execution_count": 1,
     "metadata": {},
     "output_type": "execute_result"
    },
    {
     "data": {
      "image/png": "[encoded data removed]",
      "text/plain": [
       "<Figure size 432x288 with 1 Axes>"
      ]
     },
     "metadata": {
      "needs_background": "light"
     },
     "output_type": "display_data"
    }
   ],
   "source": [
    "import pandas as pd\n",
    "import numpy as np\n",
    "\n",
    "assign_numbers=pd.Series([1,3,6,4,2,3]) ## creating 6 objects in Series\n",
    "print(assign_numbers)\n",
    "assign_numbers.plot()\n",
    "\n",
    "new_index_numbers=np.random.randint(5,size=6)\n",
    "print(list(new_index_numbers))\n",
    "assign_numbers.index=new_index_numbers\n",
    "print(assign_numbers)\n",
    "\n",
    "assign_numbers.plot()\n",
    "#what about addition of randomness into the rigid data to create little unstability"
   ]
  },
  {
   "cell_type": "code",
   "execution_count": 22,
   "id": "67d7e936-37b0-477d-a5a9-011cbb8e097d",
   "metadata": {},
   "outputs": [
    {
     "name": "stdout",
     "output_type": "stream",
     "text": [
      "['{\"provider\":\"https://www.exchangerate-api.com\"', 'WARNING_UPGRADE_TO_V6:\"https://www.exchangerate-api.com/docs/free\"', 'terms:\"https://www.exchangerate-api.com/terms\"', 'base:\"EUR\"', 'date:\"2021-07-21\"', 'time_last_updated:1626825601', 'rates:{\"EUR\":1', 'AED:4.34', 'AFN:93.38', 'ALL:122.49', 'AMD:579.51', 'ANG:2.12', 'AOA:760.47', 'ARS:113.64', 'AUD:1.61', 'AWG:2.12', 'AZN:2', 'BAM:1.96', 'BBD:2.36', 'BDT:100.24', 'BGN:1.96', 'BHD:0.445', 'BIF:2325.87', 'BMD:1.18', 'BND:1.61', 'BOB:8.12', 'BRL:6.18', 'BSD:1.18', 'BTN:88.04', 'BWP:13', 'BYN:2.99', 'BZD:2.36', 'CAD:1.5', 'CDF:2340.57', 'CHF:1.08', 'CLP:896.77', 'CNY:7.64', 'COP:4508.24', 'CRC:729.8', 'CUC:1.18', 'CUP:30.45', 'CVE:110.27', 'CZK:25.72', 'DJF:210.15', 'DKK:7.46', 'DOP:67.18', 'DZD:158.76', 'EGP:18.48', 'ERN:17.74', 'ETB:52.54', 'FJD:2.46', 'FKP:0.866', 'FOK:7.46', 'GBP:0.866', 'GEL:3.65', 'GGP:0.866', 'GHS:7.03', 'GIP:0.866', 'GMD:61.28', 'GNF:11561.38', 'GTQ:9.14', 'GYD:246.52', 'HKD:9.16', 'HNL:28.01', 'HRK:7.53', 'HTG:110.87', 'HUF:360.7', 'IDR:17226.71', 'ILS:3.9', 'IMP:0.866', 'INR:88.04', 'IQD:1719.05', 'IRR:49554.2', 'ISK:146.55', 'JMD:181.24', 'JOD:0.838', 'JPY:129.24', 'KES:127.61', 'KGS:99.74', 'KHR:4796.1', 'KID:1.61', 'KMF:491.97', 'KRW:1355.85', 'KWD:0.354', 'KYD:0.985', 'KZT:504.44', 'LAK:11203.62', 'LBP:1782.55', 'LKR:235.02', 'LRD:202.46', 'LSL:17.19', 'LYD:5.31', 'MAD:10.56', 'MDL:21.2', 'MGA:4503.91', 'MKD:61.5', 'MMK:1945.17', 'MNT:3357.62', 'MOP:9.43', 'MRU:42.58', 'MUR:50.07', 'MVR:18.21', 'MWK:951.23', 'MXN:23.7', 'MYR:4.98', 'MZN:75.21', 'NAD:17.19', 'NGN:502.97', 'NIO:41.14', 'NOK:10.6', 'NPR:140.87', 'NZD:1.7', 'OMR:0.455', 'PAB:1.18', 'PEN:4.66', 'PGK:4.15', 'PHP:59.89', 'PKR:190.02', 'PLN:4.6', 'PYG:8094.99', 'QAR:4.3', 'RON:4.93', 'RSD:117.51', 'RUB:87.83', 'RWF:1184.31', 'SAR:4.43', 'SBD:9.38', 'SCR:18.86', 'SDG:521.58', 'SEK:10.25', 'SGD:1.61', 'SHP:0.866', 'SLL:12078.6', 'SOS:681.7', 'SRD:25', 'SSP:209.17', 'STN:24.5', 'SYP:1485.01', 'SZL:17.19', 'THB:38.71', 'TJS:13.35', 'TMT:4.13', 'TND:3.27', 'TOP:2.65', 'TRY:10.09', 'TTD:8.38', 'TVD:1.61', 'TWD:33.13', 'TZS:2728.26', 'UAH:32.08', 'UGX:4187.37', 'USD:1.18', 'UYU:51.73', 'UZS:12598.04', 'VES:4292802.47', 'VND:27227.03', 'VUV:131.82', 'WST:3.02', 'XAF:655.96', 'XCD:3.19', 'XDR:0.829', 'XOF:655.96', 'XPF:119.33', 'YER:295.33', 'ZAR:17.19', 'ZMW:26.37}}']\n",
      "                 created_at  entry_id  field1\n",
      "0   2020-05-08 14:54:50 UTC         1      85\n",
      "1   2020-05-08 14:56:28 UTC         2      80\n",
      "2   2020-05-08 14:59:02 UTC         3      94\n",
      "3   2020-05-08 15:01:37 UTC         4      88\n",
      "4   2020-05-08 15:03:02 UTC         5      84\n",
      "5   2020-05-08 15:05:42 UTC         6      82\n",
      "6   2020-05-08 15:06:44 UTC         7      85\n",
      "7   2020-05-08 15:07:28 UTC         8      80\n",
      "8   2020-05-08 15:08:34 UTC         9      90\n",
      "9   2020-05-08 15:11:04 UTC        10      83\n",
      "10  2020-05-08 15:14:28 UTC        11      96\n",
      "11  2020-05-08 15:16:15 UTC        12      79\n",
      "12  2020-05-08 15:19:05 UTC        13      69\n",
      "13  2020-05-08 15:21:28 UTC        14     114\n",
      "14  2020-05-08 15:45:16 UTC        15      80\n",
      "15  2020-05-08 15:46:03 UTC        16      80\n",
      "16  2020-05-08 15:47:02 UTC        17      80\n",
      "17  2020-05-08 15:47:39 UTC        18      84\n",
      "18  2020-05-08 15:48:16 UTC        19      78\n",
      "19  2020-05-08 15:48:57 UTC        20      95\n",
      "20  2020-05-08 15:49:42 UTC        21      77\n",
      "21  2020-05-08 15:50:27 UTC        22      79\n",
      "22  2020-05-08 15:51:43 UTC        23      85\n",
      "23  2020-05-08 15:53:45 UTC        24      74\n",
      "24  2020-05-08 15:54:44 UTC        25      79\n"
     ]
    }
   ],
   "source": [
    "import requests\n",
    "import pandas as pd\n",
    "\n",
    "## exchange rate information\n",
    "exchange_url = \"https://api.exchangerate-api.com/v4/latest/EUR\"\n",
    "csv_data_url = list(pd.read_csv(exchange_url))\n",
    "print(csv_data_url)\n",
    "# csv_data_url.to_json()\n",
    "# convert to list(csv_data_url) with only \"rates\"\n",
    "\n",
    "## heart rate information\n",
    "heartRate_url=\"https://thingspeak.com/channels/966957/field/1.csv\"\n",
    "heartRate_data=pd.read_csv(heartRate_url)\n",
    "print(heartRate_data)\n",
    "## replacing the column name\n",
    "# heartRate_data[\"pulse/m\"] = heartRate_data.pop(\"field1\")\n",
    "# print(heartRate_data)"
   ]
  },
  {
   "cell_type": "code",
   "execution_count": 19,
   "id": "401d3a26-1131-48c1-b01b-4b7b28cb98f4",
   "metadata": {},
   "outputs": [
    {
     "name": "stdout",
     "output_type": "stream",
     "text": [
      "        column1  column2\n",
      "amount     10.0     40.0\n",
      "color       2.0      NaN\n",
      "type        6.0      7.0\n",
      "radius      NaN      4.0\n",
      "        column1  column2\n",
      "amount     10.0     40.0\n",
      "color       2.0     17.0\n",
      "type        6.0      7.0\n",
      "radius      6.0      4.0\n"
     ]
    }
   ],
   "source": [
    "# load pandas and json modules                                                                                               \n",
    "import pandas as pd\n",
    "import json\n",
    "\n",
    "array1=[\"item1\",\"item2\"]\n",
    "\n",
    "# json string                                                                                                                \n",
    "s = '{\"column1\":{\"amount\":10,\"color\":2,\"type\":6},\"column2\":{\"amount\":40,\"radius\":4.0,\"type\":7}}'\n",
    "\n",
    "# for k in range(len(s)):\n",
    "#     print(s[k])\n",
    "\n",
    "# read as json to a data frame                                                                                                    \n",
    "df = pd.read_json(s)\n",
    "print(df)\n",
    "\n",
    "df=df.fillna(df.mean()) ## fills empty values with a specified value!\n",
    "# print(df['column1'])\n",
    "print(df)"
   ]
  },
  {
   "cell_type": "code",
   "execution_count": null,
   "id": "1bc3a1fa-3f2c-482e-bf1f-fbeb3aa965a2",
   "metadata": {},
   "outputs": [],
   "source": []
  }
 ],
 "metadata": {
  "kernelspec": {
   "display_name": "Python 3",
   "language": "python",
   "name": "python3"
  },
  "language_info": {
   "codemirror_mode": {
    "name": "ipython",
    "version": 3
   },
   "file_extension": ".py",
   "mimetype": "text/x-python",
   "name": "python",
   "nbconvert_exporter": "python",
   "pygments_lexer": "ipython3",
   "version": "3.8.8"
  }
 },
 "nbformat": 4,
 "nbformat_minor": 5
}
